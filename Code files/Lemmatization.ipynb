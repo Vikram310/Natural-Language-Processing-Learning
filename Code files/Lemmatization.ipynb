{
 "cells": [
  {
   "cell_type": "markdown",
   "metadata": {},
   "source": [
    "### Lemmatization"
   ]
  },
  {
   "cell_type": "code",
   "execution_count": 1,
   "metadata": {},
   "outputs": [
    {
     "name": "stdout",
     "output_type": "stream",
     "text": [
      "country\n",
      "The striped bat are hanging on their foot for best\n",
      "stripe\n"
     ]
    },
    {
     "data": {
      "text/plain": [
       "'The striped bat are hanging on their foot for best'"
      ]
     },
     "execution_count": 1,
     "metadata": {},
     "output_type": "execute_result"
    }
   ],
   "source": [
    "import nltk\n",
    "\n",
    "# WordNet Lemmatizer\n",
    "from nltk.stem import WordNetLemmatizer\n",
    "lemmatizer = WordNetLemmatizer()\n",
    "print(lemmatizer.lemmatize('countries'))   #Lemmatize a Single Word\n",
    "\n",
    "sentence = \"The striped bats are hanging on their feet for best\"      #Lemmatize a sentence  \n",
    "word_list = nltk.word_tokenize(sentence)\n",
    "print(' '.join([lemmatizer.lemmatize(w) for w in word_list]))\n",
    "\n",
    "#TextBlob Lemmatizer\n",
    "from textblob import TextBlob, Word\n",
    "a = 'stripes'\n",
    "print(Word(a).lemmatize())    # Lemmatize a word\n",
    "\n",
    "sent = TextBlob(sentence)                   # Lemmatize a sentence\n",
    "' '. join([w.lemmatize() for w in sent.words])\n"
   ]
  },
  {
   "cell_type": "code",
   "execution_count": null,
   "metadata": {},
   "outputs": [],
   "source": []
  }
 ],
 "metadata": {
  "interpreter": {
   "hash": "4e2823b6ce2f64e483fa1686b0df7f35653b3167a56745627d38778c836e640f"
  },
  "kernelspec": {
   "display_name": "Python 3.9.7 64-bit ('base': conda)",
   "language": "python",
   "name": "python3"
  },
  "language_info": {
   "codemirror_mode": {
    "name": "ipython",
    "version": 3
   },
   "file_extension": ".py",
   "mimetype": "text/x-python",
   "name": "python",
   "nbconvert_exporter": "python",
   "pygments_lexer": "ipython3",
   "version": "3.9.7"
  },
  "orig_nbformat": 4
 },
 "nbformat": 4,
 "nbformat_minor": 2
}
