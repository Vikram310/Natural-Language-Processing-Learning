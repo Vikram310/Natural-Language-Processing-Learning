{
 "cells": [
  {
   "cell_type": "markdown",
   "metadata": {},
   "source": [
    "### Stemming"
   ]
  },
  {
   "cell_type": "code",
   "execution_count": 23,
   "metadata": {},
   "outputs": [
    {
     "name": "stdout",
     "output_type": "stream",
     "text": [
      "Output of Porter Stemming:  fish fish fish fisher fish fishi\n",
      "Output of Snowball Stemming:  fish fish fish fisher fish fishi\n",
      "Output of Lancaster Stemming:  fish fish fish fish fish fishy\n",
      "Output of Regex Stemming:  fish fish fishe fisher fished fishy\n"
     ]
    }
   ],
   "source": [
    "import nltk\n",
    "from nltk.stem.porter import *\n",
    "\n",
    "porterStemmer = PorterStemmer()\n",
    "stemmer2 = SnowballStemmer(\"english\", ignore_stopwords=True)\n",
    "lancasterStemmer = LancasterStemmer()\n",
    "regexStemmer = RegexpStemmer('ing$|s$|e$|able$', min=4)\n",
    "\n",
    "\n",
    "sentence = \"fish fishing fishes fisher fished fishy\"\n",
    "wordList = nltk.word_tokenize(sentence)\n",
    "\n",
    "porterstem = [porterStemmer.stem(word) for word in wordList]\n",
    "snowballstem = [snowBallStemmer.stem(word) for word in wordList]\n",
    "lancasterstem = [lancasterStemmer.stem(word) for word in wordList]\n",
    "regexstem = [regexStemmer.stem(word) for word in wordList]\n",
    "\n",
    "\n",
    "print('Output of Porter Stemming: ',' '.join(porterstem))\n",
    "print('Output of Snowball Stemming: ', ' '.join(snowballstem))\n",
    "print('Output of Lancaster Stemming: ',' '.join(lancasterstem))\n",
    "print('Output of Regex Stemming: ',' '.join(regexstem))\n"
   ]
  }
 ],
 "metadata": {
  "interpreter": {
   "hash": "4e2823b6ce2f64e483fa1686b0df7f35653b3167a56745627d38778c836e640f"
  },
  "kernelspec": {
   "display_name": "Python 3.9.7 64-bit ('base': conda)",
   "language": "python",
   "name": "python3"
  },
  "language_info": {
   "codemirror_mode": {
    "name": "ipython",
    "version": 3
   },
   "file_extension": ".py",
   "mimetype": "text/x-python",
   "name": "python",
   "nbconvert_exporter": "python",
   "pygments_lexer": "ipython3",
   "version": "3.9.7"
  },
  "orig_nbformat": 4
 },
 "nbformat": 4,
 "nbformat_minor": 2
}
